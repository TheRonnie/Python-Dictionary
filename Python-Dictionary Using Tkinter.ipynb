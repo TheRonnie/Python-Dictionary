{
 "cells": [
  {
   "cell_type": "markdown",
   "id": "e39eae30",
   "metadata": {},
   "source": [
    "# :::::::::::::::::::::::::::::::::  🤩  WELCOME  🤩  :::::::::::::::::::::::::::::::::"
   ]
  },
  {
   "cell_type": "markdown",
   "id": "87692c79",
   "metadata": {},
   "source": [
    "#  <center>English Dictionary App</center>"
   ]
  },
  {
   "cell_type": "markdown",
   "id": "e6a4076b",
   "metadata": {},
   "source": [
    "This project uses the skills learnt from week 1 to week 6. The aim of this project is to create an English Dictionary app that returns definitions of English words. When the application is started, it displays a menu as follows:\n",
    "\n",
    ">>Main Menu\n",
    "\n",
    ">Add a new word\n",
    "\n",
    ">Find the meaning\n",
    "\n",
    ">Update a word\n",
    "\n",
    ">Exit\n",
    "\n",
    "\n",
    "Enter Choice:\n",
    "\n",
    "If item 1 is selected, it should prompt for a word and then accept its meaning. This pair of word and its meaning should be stored in a file called ‘words.txt’. When item 2 is selected, it should prompt for a word, search that word in the file ‘words.txt’ and return the meaning if it is found. If the meaning is not found, it should display an appropriate message. Similarly, when choice 3 is entered, it should accept a word and update its meaning. In all the above three cases, the prompt should return to the main menu. The words and their meanings should be stored as a dictionary in words.txt, using the concept of serialization. If choice 4 is selected, a graceful exit should be performed."
   ]
  },
  {
   "cell_type": "markdown",
   "id": "0591b837",
   "metadata": {},
   "source": [
    ">> already give you some words in <b>\"words.txt\"</b>"
   ]
  },
  {
   "cell_type": "markdown",
   "id": "19fa9691",
   "metadata": {},
   "source": [
    "## words.txt\n",
    "    cat : a small carnivorous mammal with soft fur, a short snout, and retractable claws.\n",
    "    dog : a domesticated carnivorous mammal that typically has a long snout, an acute sense of smell, and a barking or howling voice.\n",
    "    car : a road vehicle, typically with four wheels, powered by an internal combustion engine or an electric motor and designed for the transportation of people or goods.\n",
    "    book : a written or printed work consisting of pages glued or sewn together along one side and bound in covers.\n",
    "    happy : feeling or showing pleasure or contentment.\n",
    "    sad : feeling or showing sorrow; unhappy.\n",
    "    hot : having a high degree of heat or a high temperature.\n",
    "    cold : of or at a low or relatively low temperature, especially when compared with the human body.\n",
    "    big : of considerable size or extent.\n",
    "    small : of a size that is less than normal or usual."
   ]
  },
  {
   "cell_type": "code",
   "execution_count": 6,
   "id": "85c6ac15",
   "metadata": {},
   "outputs": [
    {
     "name": "stdout",
     "output_type": "stream",
     "text": [
      "Enter the word: cat\n",
      "Meaning: a small carnivorous mammal with soft fur, a short snout, and retractable claws.\n",
      "Enter the word: hi\n",
      "Meaning: Hello\n",
      "Word already present!, If you want to change meaning then click on 'Update button'\n",
      "Enter the word: bye\n",
      "Word not present!\n",
      "Enter the word: bye\n",
      "Enter the meaning: tata\n",
      "Word added successfully!\n",
      "Enter the word: bye\n",
      "Meaning: tata\n"
     ]
    }
   ],
   "source": [
    "from tkinter import *\n",
    "window = Tk()\n",
    "window.title(\"Main Menu\")\n",
    "window.geometry(\"250x200\")\n",
    "\n",
    "def add_word():\n",
    "    word = input(\"Enter the word: \")\n",
    "    word = word.replace(\" \", \"\")\n",
    "    word = word.lower()\n",
    "    \n",
    "    #file.seek(0)\n",
    "    with open(\"words.txt\", \"r+\") as file:\n",
    "        lines = file.readlines()\n",
    "        for line in lines:\n",
    "            if line.startswith(word+\":\"):\n",
    "                \n",
    "                print(\"Meaning:\", line.split(\":\")[1].strip())\n",
    "                print(\"Word already present!, If you want to change meaning then click on 'Update button'\")\n",
    "                return\n",
    "        meaning = input(\"Enter the meaning: \")\n",
    "        word.lower()\n",
    "        file.write(word + \":\" + meaning + \"\\n\")\n",
    "        print(\"Word added successfully!\")\n",
    "        \n",
    "def find_word():\n",
    "    word = input(\"Enter the word: \")\n",
    "    word = word.replace(\" \", \"\")\n",
    "    word = word.lower()\n",
    "    #file.seek(0)\n",
    "    with open(\"words.txt\", \"r+\") as file:\n",
    "        lines = file.readlines()\n",
    "        for line in lines:\n",
    "            if line.startswith(word+\":\"):\n",
    "                print(\"Meaning:\", line.split(\":\")[1].strip())\n",
    "                return\n",
    "        else:\n",
    "            print(\"Word not present!\")\n",
    "            \n",
    "\n",
    "                \n",
    "def update_word():\n",
    "    word = input(\"Enter the word: \")\n",
    "    word = word.replace(\" \", \"\")\n",
    "    word = word.lower()\n",
    "    #meaning = input(\"Enter the meaning: \")\n",
    "    with open(\"words.txt\", \"r+\") as file:\n",
    "        lines = file.readlines()\n",
    "        file.seek(0)  # reset the file pointer to the beginning of the file\n",
    "        for line in lines:\n",
    "            if line.startswith(word+\":\"):\n",
    "                print(\"Word already present!\")\n",
    "                print(\"Meaning:\", line.split(\":\")[1].strip())\n",
    "                update = input(\"Do you want to update the meaning? (y/n): \")\n",
    "                \n",
    "                if update.lower() == \"y\":\n",
    "                    meaning = input(\"Enter the meaning: \")\n",
    "                    line = word + \":\" + meaning + \"\\n\"\n",
    "                    print(\"Word meaning updated!\")\n",
    "                else:\n",
    "                    return\n",
    "            file.write(line)\n",
    "                    \n",
    "                    \n",
    "                    \n",
    "b1 = Button(window,text= \"Add a new word\",width =15,command=add_word)\n",
    "b1.grid(row=0,column=0,padx=65,pady=20)\n",
    "\n",
    "b2 = Button(window,text= \"Find the meaning\",width =15,command=find_word)\n",
    "b2.grid(row=1,column=0)\n",
    "\n",
    "b3 = Button(window,text= \"Update a word\",width =15,command = update_word)\n",
    "b3.grid(row=3,column=0,padx=10,pady=20)\n",
    "\n",
    "b4 = Button(window,text= \"Exit\",command = window.destroy,width =15)\n",
    "b4.grid(row=4,column=0)\n",
    "\n",
    "\n",
    "window.mainloop()\n",
    "\n"
   ]
  },
  {
   "cell_type": "code",
   "execution_count": null,
   "id": "c44ba3ee",
   "metadata": {},
   "outputs": [],
   "source": []
  }
 ],
 "metadata": {
  "kernelspec": {
   "display_name": "Python 3 (ipykernel)",
   "language": "python",
   "name": "python3"
  },
  "language_info": {
   "codemirror_mode": {
    "name": "ipython",
    "version": 3
   },
   "file_extension": ".py",
   "mimetype": "text/x-python",
   "name": "python",
   "nbconvert_exporter": "python",
   "pygments_lexer": "ipython3",
   "version": "3.10.9"
  }
 },
 "nbformat": 4,
 "nbformat_minor": 5
}
